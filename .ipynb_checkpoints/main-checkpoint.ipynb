{
 "cells": [
  {
   "cell_type": "code",
   "execution_count": null,
   "id": "2a29e5ea-95cd-4dce-b828-cc69404495da",
   "metadata": {},
   "outputs": [],
   "source": [
    "from RPA.Browser.Selenium import Selenium\n",
    "\n",
    "from selenium.common.exceptions import ElementClickInterceptedException\n",
    "from time import sleep\n",
    "from robot.api import logger\n",
    "from datetime import datetime, timedelta\n",
    "\n",
    "import re\n",
    "import pandas as pd\n",
    "import os\n",
    "\n",
    "# from utils import download_images\n",
    "from utils import Utils\n",
    "from get_infos import GetInfos\n",
    "from access_infos import AcessInfos\n",
    "\n",
    "\n",
    "class NtyInfos:\n",
    "    def __init__(self):\n",
    "        self.browser = Selenium()\n",
    "        self.access_infos = AcessInfos(self.browser)\n",
    "        self.get_infos = GetInfos(self.browser)\n",
    "        self.utils = Utils(self.browser)\n",
    "    \n",
    "    def main(self):\n",
    "        \n",
    "        self.access_infos.load_infos()\n",
    "        \n",
    "        df_infos = self.get_infos.load_infos()\n",
    "\n",
    "        self.utils.download_images(df_infos)\n",
    "        df_infos.drop('image_src', axis=1, inplace=True)\n",
    "        df_infos.to_excel(\"nyt_news_info.xlsx\", index=False)\n",
    "        \n",
    "    \n",
    "nyt = NtyInfos()\n",
    "nyt.main()\n"
   ]
  },
  {
   "cell_type": "code",
   "execution_count": null,
   "id": "4b0bbeb7-ac9f-4374-a410-30163dce9430",
   "metadata": {},
   "outputs": [],
   "source": []
  },
  {
   "cell_type": "code",
   "execution_count": null,
   "id": "477f4800-45f9-4e0d-a1c9-1b2b1f32e82c",
   "metadata": {},
   "outputs": [],
   "source": []
  },
  {
   "cell_type": "code",
   "execution_count": null,
   "id": "477c1774-fc4a-49d0-9dd1-baf3ed64ba11",
   "metadata": {},
   "outputs": [],
   "source": []
  }
 ],
 "metadata": {
  "kernelspec": {
   "display_name": "Python 3 (ipykernel)",
   "language": "python",
   "name": "python3"
  },
  "language_info": {
   "codemirror_mode": {
    "name": "ipython",
    "version": 3
   },
   "file_extension": ".py",
   "mimetype": "text/x-python",
   "name": "python",
   "nbconvert_exporter": "python",
   "pygments_lexer": "ipython3",
   "version": "3.11.0"
  }
 },
 "nbformat": 4,
 "nbformat_minor": 5
}
